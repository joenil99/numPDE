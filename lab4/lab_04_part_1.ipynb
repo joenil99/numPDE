{
 "cells": [
  {
   "cell_type": "markdown",
   "metadata": {},
   "source": [
    "# Homework 4 \n",
    "## Part 1: The $L^2$ Projection\n",
    "\n",
    "### This is the solution of:\n",
    "* Student1\n",
    "* Student2\n",
    "* Student3\n",
    "\n",
    "\n",
    "The same general rules as for Homework 1 applies.\n",
    "\n",
    "$\\newcommand{\\dx}{\\,\\mathrm{d}x}$ \n",
    "$\\newcommand{\\dy}{\\,\\mathrm{d}y}$\n",
    "$\\newcommand{\\dS}{\\,\\mathrm{d}S}$"
   ]
  },
  {
   "cell_type": "code",
   "execution_count": null,
   "metadata": {},
   "outputs": [],
   "source": [
    "# Make plotted figures interactive\n",
    "%matplotlib notebook"
   ]
  },
  {
   "cell_type": "code",
   "execution_count": null,
   "metadata": {},
   "outputs": [],
   "source": [
    "from IPython.core.display import HTML\n",
    "def css_styling():\n",
    "    styles = open(\"../styles/custom-style-2017.css\", \"r\").read()\n",
    "    return HTML(styles)\n",
    "\n",
    "# Comment out next line and execute this cell to restore the default notebook style. \n",
    "css_styling()"
   ]
  },
  {
   "cell_type": "markdown",
   "metadata": {},
   "source": [
    "Import relevant python modules and our own tiny helper modules."
   ]
  },
  {
   "cell_type": "code",
   "execution_count": null,
   "metadata": {},
   "outputs": [],
   "source": [
    "import numpy as np\n",
    "import scipy.sparse as sp\n",
    "from scipy.sparse.linalg.dsolve import spsolve"
   ]
  },
  {
   "cell_type": "markdown",
   "metadata": {},
   "source": [
    "Next, we define a surface plotting function for functions defined on triangle meshes.\n",
    "The triangulation $\\mathcal{K}_h$ is given by $n_t$ triangles $\\{K\\}_{i=0}^{n_t}$ \n",
    "and $n_p$ nodes $\\{N_i\\}_{i=0}^{n_p-1}$. As usual we assume that $\\mathcal{K}_h$ is represented by its point matrix $P$ storing in column $j$ the $x$ and $y$ coordinate node $N_j$ of the triangulation, and the connectivity matrix $T$, which in\n",
    "column $j$ stores the indices of those nodes which comprise triangle $K_j$.\n",
    "\n",
    "The arguments ```X``` and ```Y``` correspond to the\n",
    "$0$-th and $1$st row of the point matrix $P$ and ```Z``` is just the array containing\n",
    "the function values at the nodes. The ```triangles``` argument takes the connectivity matrix $T$. "
   ]
  },
  {
   "cell_type": "code",
   "execution_count": null,
   "metadata": {},
   "outputs": [],
   "source": [
    "def plot2D(X, Y, Z, triangles, title=''):\n",
    "    fig = plt.figure()\n",
    "    ax = fig.gca(projection='3d')\n",
    "    ax.plot_trisurf(X, Y, Z, triangles=triangles.copy(), cmap=cm.viridis, linewidth=0.0)\n",
    "    ax.set_title(title)\n",
    "    ax.set_xlabel('$x$')\n",
    "    ax.set_ylabel('$y$')\n",
    "    ax.set_zlabel('$z$')\n",
    "    plt.show()"
   ]
  },
  {
   "cell_type": "markdown",
   "metadata": {},
   "source": [
    "## Problem 1 (Point and Connectivity Matrices)\n",
    "\n",
    "Determine the point and connectivity matrix for following triangulation."
   ]
  },
  {
   "cell_type": "markdown",
   "metadata": {},
   "source": [
    "<center>\n",
    "<img src='mesh.png' width=\"800\">\n",
    "</center>"
   ]
  },
  {
   "cell_type": "markdown",
   "metadata": {},
   "source": [
    "## Problem 2 (Exploring the meshtools module)\n",
    "\n",
    "Download $\\texttt{meshtools}$ module from the lab_04 folder. \n",
    "Import it as usual via"
   ]
  },
  {
   "cell_type": "code",
   "execution_count": null,
   "metadata": {},
   "outputs": [],
   "source": [
    "import meshtools as mt"
   ]
  },
  {
   "cell_type": "markdown",
   "metadata": {},
   "source": [
    "and play around with the implemented functions. In particular, generate and plot \n",
    "\n",
    "**a**) a unitsquare mesh with meshsize $h = 1/N$ for $N=1,2,5$.\n",
    "\n",
    "**b**) 3 rectangle meshes for $[a,b]\\times[c,d] = [0,1]\\times[2,4]$ for \n",
    "3 meshsizes of your choice.\n",
    "\n",
    "Hint: read the code meshtools.py "
   ]
  },
  {
   "cell_type": "markdown",
   "metadata": {},
   "source": [
    "## Problem 3 ($L^2$ projection)"
   ]
  },
  {
   "cell_type": "markdown",
   "metadata": {},
   "source": [
    "**a**) Let $f \\in L^2(\\Omega)$ and prove that the $L^2$ projection $P_h f \\in V_h$ is uniquely defined.\n",
    "\n",
    "Hint: prove by contradition. Assume there are two $L^2$ projections, ..."
   ]
  },
  {
   "cell_type": "markdown",
   "metadata": {},
   "source": [
    "**b**) For a given domain, let $\\mathcal{K}_h = \\{K_i\\}_{i=0}^{n_t-1}$ be a triangulation represent through its point matrix $P$ and its connectivity matrix $T$. As usual, let $V_h$\n",
    "be the space of continuous, piecewise linear functions defined on $\\mathcal{K}_h$\n",
    "\n",
    "Write a Python function ```assemble_mass_matrix(P, T)``` which assembles the mass\n",
    "matrix associated with the $L^2$ projection onto $V_h$. Start from the following code outline."
   ]
  },
  {
   "cell_type": "markdown",
   "metadata": {},
   "source": [
    "### Code Outline"
   ]
  },
  {
   "cell_type": "code",
   "execution_count": null,
   "metadata": {},
   "outputs": [],
   "source": [
    "def assemble_mass_matrix(P, T):\n",
    "    # Define constant part M_K here\n",
    "    M_ref = ...*np.array(....)\n",
    "    \n",
    "    # Deduce number of unkowns from dimensions/shape of P\n",
    "    n_p = ...\n",
    "    # Deduce number of elements from dimensions of T\n",
    "    n_t = ...\n",
    "    \n",
    "    # Create sparse matrix M\n",
    "    M = sp.dok_matrix((n_p, n_p))\n",
    "    \n",
    "    for  K in range(n_t):\n",
    "        # Get local to global map from T\n",
    "        l2g = ...   \n",
    "        # Get triangle nodes from P\n",
    "        tri = ...\n",
    "        # Unpack nodes into N1,N2,N3\n",
    "        N0,N1,N2 = tri \n",
    "        # Compute area of K. \n",
    "        # Convince yourself that the following line computes the area |K|\n",
    "        area=abs(0.5*np.cross(N1-N0,N2-N0))\n",
    "        # Use area and M_ref to compute M_K\n",
    "        M_K = ...\n",
    "        # Instead of 2 loops we can slice out the blocks which\n",
    "        # corresponds to the entries in l2g by using the funny\n",
    "        # function ix_ in numpy\n",
    "        M[np.ix_(l2g, l2g)] += M_K\n",
    "    \n",
    "    return M"
   ]
  },
  {
   "cell_type": "markdown",
   "metadata": {},
   "source": [
    "**c**) Next, write a Python function ```assemble_load_vector(P, T, f)``` \n",
    "which assembles the corresponding load vector for a given triangulation $\\mathcal{K}_h$ and a right-hand side function f. You shall implement two quadratures (2D Trapezoid and midpoint)to approximate the local element vector\n",
    "\n",
    "$$\n",
    "b^K = \\int_K f \\lambda_i \\approx Q_K^{cp}(f\\lambda_i) \\quad i = 0,1,2\n",
    "$$"
   ]
  },
  {
   "cell_type": "markdown",
   "metadata": {},
   "source": [
    "### Code Snippet"
   ]
  },
  {
   "cell_type": "code",
   "execution_count": null,
   "metadata": {},
   "outputs": [],
   "source": [
    "def assemble_load_vector(P, T, f, qr = \"midpoint_2d\"):\n",
    "    \"\"\" Assembles the load vector \"\"\"\n",
    "    \n",
    "    # Deduce number of unkowns from dimensions/shape of P\n",
    "    n_p = ...\n",
    "    # Deduce number of elements from dimensions of T\n",
    "    n_t = ...\n",
    "    \n",
    "    \n",
    "    # Create and intialize vector\n",
    "    b = np.zeros(n_p)\n",
    "    \n",
    "    # Iterate over all triangles\n",
    "    for  K in range(n_t):\n",
    "        l2g = ...   # Get local to global map\n",
    "        tri = ...  # Get triangle coordinates and compute area\n",
    "        N0,N1,N2 = tri \n",
    "        \n",
    "        if qr == \"midpoint_2d\":   \n",
    "            # 2d midpoint\n",
    "            # three midpoint coordinates\n",
    "            N01 = ...\n",
    "            N12 = ...\n",
    "            N20 = ...\n",
    "        \n",
    "            b_K = ... # an array of three items for the approximation of the integral of\n",
    "            # f \\phi_0, f \\phi_1, f \\phi_2 in triangle K\n",
    "        else:\n",
    "            # 2d Trapezoid\n",
    "            b_K = # an array of three items for the approximation of the integral of\n",
    "            # f \\phi_0, f \\phi_1, f \\phi_2 in triangle K\n",
    "        # Add local contributions to the global load vector\n",
    "        b[l2g] += b_K\n",
    "        \n",
    "    return b"
   ]
  },
  {
   "cell_type": "markdown",
   "metadata": {},
   "source": [
    "**d)** Finally, we have all the bits and pieces together to compute for a given triangulation $\\mathcal{K}_h$ the $L^2$ projection of the analytical function  $f:\\Omega \\to \\mathbb{R}$ defined by\n",
    "\n",
    "$$\n",
    "f(x,y) = \\sin(2\\pi x)\\cos(2\\pi y),\n",
    "\\quad \\Omega = [0,1]^2 \\subset \\mathbb{R}^2.$$\n",
    "\n",
    "More specifically, compute $P_h f$ on a series of meshes $\\{\\mathcal{K}_h\\}$\n",
    "with $h = 1/N$ and $N = 5, 10, 20, 40, 80$.\n",
    "Plot both $f$, $P_h f$ and the error function $f - P_h f$ for $N = 5, 20, 80$.  Use the 2d Trapezoid rule in the assemble_load_vector.\n",
    "\n",
    "You can use the following convenient function to plot $f$, $P_h f$ and $f - P_h f$."
   ]
  },
  {
   "cell_type": "markdown",
   "metadata": {},
   "source": [
    "### Code Snippet\n",
    "\n",
    "We define another helper functions which compares two given functions $f_1$ and $f_2$\n",
    "defined on a triangulation by plotting $\\mbox{$f_1$, $f_2$}$ and their difference $f_1 - f_2$ side by side. As for the ```plot_2D``` function defined earlier,\n",
    "the arguments ```X``` and ```Y``` correspond to the\n",
    "$0$-th and $1$st row of the point matrix $P$ and ```f1``` and ```f2``` are just the arrays containing the function values of respectively $f_1$ and $f_2$ at the nodes.\n",
    "\n",
    "You need to use ```import matplotlib.pyplot as plt``` and ```from matplotlib import cm```"
   ]
  },
  {
   "cell_type": "code",
   "execution_count": null,
   "metadata": {},
   "outputs": [],
   "source": [
    "def plot_comparison_2D(X, Y, f1, f2, triangles, title_f1='', title_f2=''):\n",
    "    fig = plt.figure(figsize=plt.figaspect(0.33))\n",
    "    ax = fig.add_subplot(1, 3, 1, projection='3d')\n",
    "    ax.plot_trisurf(X, Y, f1, triangles=triangles.copy(), cmap=cm.viridis, linewidth=0.0)\n",
    "    ax.set_title(title_f1)\n",
    "    ax.set_xlabel('$x$')\n",
    "    ax.set_ylabel('$y$')\n",
    "    ax.set_zlabel('$z$')\n",
    "\n",
    "    # Plot projected function\n",
    "    ax = fig.add_subplot(1, 3, 2, projection='3d')\n",
    "    ax.plot_trisurf(X, Y, f2, triangles=triangles.copy(), cmap=cm.viridis, linewidth=0.0)\n",
    "    ax.set_title(title_f2)\n",
    "    ax.set_xlabel('$x$')\n",
    "    ax.set_ylabel('$y$')\n",
    "    ax.set_zlabel('$z$')\n",
    "\n",
    "    ax = fig.add_subplot(1, 3, 3, projection='3d')\n",
    "    ax.plot_trisurf(X, Y, f1-f2, triangles=triangles.copy(), cmap=cm.viridis, linewidth=0.0)\n",
    "    ax.set_title('Difference')\n",
    "    ax.set_xlabel('$x$')\n",
    "    ax.set_ylabel('$y$')\n",
    "    ax.set_zlabel('$z$')\n",
    "    plt.show()"
   ]
  },
  {
   "cell_type": "markdown",
   "metadata": {},
   "source": [
    "**e)** Repeat the numerical experiement d) using \n",
    "2D midpoint rule in the load vector assembly. \n",
    "Describe qualitively the difference and explain why."
   ]
  },
  {
   "cell_type": "code",
   "execution_count": null,
   "metadata": {},
   "outputs": [],
   "source": []
  }
 ],
 "metadata": {
  "anaconda-cloud": {},
  "kernelspec": {
   "display_name": "Python 3",
   "language": "python",
   "name": "python3"
  },
  "language_info": {
   "codemirror_mode": {
    "name": "ipython",
    "version": 3
   },
   "file_extension": ".py",
   "mimetype": "text/x-python",
   "name": "python",
   "nbconvert_exporter": "python",
   "pygments_lexer": "ipython3",
   "version": "3.8.8"
  }
 },
 "nbformat": 4,
 "nbformat_minor": 1
}
